{
 "cells": [
  {
   "cell_type": "code",
   "execution_count": null,
   "id": "f56029b1",
   "metadata": {},
   "outputs": [],
   "source": [
    "#This code was finished with\n",
    "#assistance from ChatGPT"
   ]
  },
  {
   "cell_type": "code",
   "execution_count": 4,
   "id": "1765d4a6",
   "metadata": {},
   "outputs": [],
   "source": [
    "import os\n",
    "import shutil\n",
    "from datetime import datetime"
   ]
  },
  {
   "cell_type": "code",
   "execution_count": 5,
   "id": "3fa92d95",
   "metadata": {},
   "outputs": [],
   "source": [
    "# Define the source and destination directories\n",
    "#CHANGE PATHS IN QUOTES TO YOUR OWN PATHS HERE!!!\n",
    "SRC_DIR = \"C://mydir//DateSort\"\n",
    "DEST_DIR = \"C://mydir//DateSort//sorted\""
   ]
  },
  {
   "cell_type": "code",
   "execution_count": 7,
   "id": "b0d005e0",
   "metadata": {},
   "outputs": [],
   "source": [
    "# Loop through all files in the source directory\n",
    "for filename in os.listdir(SRC_DIR):\n",
    "    src_path = os.path.join(SRC_DIR, filename)\n",
    "    if os.path.isfile(src_path) and filename.lower().endswith(\".jpg\"):\n",
    "        # Get the modification time of the file\n",
    "        #Getting creation time produced unreliable results\n",
    "        creation_time = os.path.getmtime(src_path)\n",
    "        creation_date = datetime.fromtimestamp(creation_time)\n",
    "        # Create the destination directory based on the creation date\n",
    "        dest_month = creation_date.strftime(\"%B\")\n",
    "        dest_year = creation_date.strftime(\"%Y\")\n",
    "        dest_dir_path = os.path.join(DEST_DIR, dest_year, dest_month)\n",
    "        os.makedirs(dest_dir_path, exist_ok=True)\n",
    "        # Copy the file to the destination directory\n",
    "        shutil.copy(src_path, dest_dir_path)"
   ]
  }
 ],
 "metadata": {
  "kernelspec": {
   "display_name": "Python 3",
   "language": "python",
   "name": "python3"
  },
  "language_info": {
   "codemirror_mode": {
    "name": "ipython",
    "version": 3
   },
   "file_extension": ".py",
   "mimetype": "text/x-python",
   "name": "python",
   "nbconvert_exporter": "python",
   "pygments_lexer": "ipython3",
   "version": "3.7.13"
  }
 },
 "nbformat": 4,
 "nbformat_minor": 5
}
