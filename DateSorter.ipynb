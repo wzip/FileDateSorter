{
 "cells": [
  {
   "cell_type": "code",
   "execution_count": 4,
   "metadata": {},
   "outputs": [],
   "source": [
    "import os"
   ]
  },
  {
   "cell_type": "code",
   "execution_count": 5,
   "metadata": {},
   "outputs": [],
   "source": [
    "from datetime import datetime"
   ]
  },
  {
   "cell_type": "code",
   "execution_count": 6,
   "metadata": {},
   "outputs": [],
   "source": [
    "flist = os.listdir()"
   ]
  },
  {
   "cell_type": "code",
   "execution_count": 7,
   "metadata": {},
   "outputs": [],
   "source": [
    "years = []"
   ]
  },
  {
   "cell_type": "code",
   "execution_count": 14,
   "metadata": {},
   "outputs": [
    {
     "name": "stdout",
     "output_type": "stream",
     "text": [
      "C:\\pythonprogs\\DateSort\\DSC00179.JPG\n",
      "DSC00179.JPG, 2005-01-09 11:32:26\n",
      "01/09/2005\n",
      "C:\\pythonprogs\\DateSort\\DSC00180.JPG\n",
      "DSC00180.JPG, 2005-01-09 11:33:08\n",
      "01/09/2005\n",
      "C:\\pythonprogs\\DateSort\\DSC00181.JPG\n",
      "DSC00181.JPG, 2005-01-09 11:33:24\n",
      "01/09/2005\n",
      "C:\\pythonprogs\\DateSort\\DSC02787.JPG\n",
      "DSC02787.JPG, 2009-09-13 14:22:46\n",
      "09/13/2009\n",
      "C:\\pythonprogs\\DateSort\\DSC02805.JPG\n",
      "DSC02805.JPG, 2009-09-15 22:32:22\n",
      "09/15/2009\n",
      "C:\\pythonprogs\\DateSort\\IMAG0100.jpg\n",
      "IMAG0100.jpg, 2010-07-27 20:31:56\n",
      "07/27/2010\n",
      "C:\\pythonprogs\\DateSort\\IMAG0102.jpg\n",
      "IMAG0102.jpg, 2010-07-27 20:33:34\n",
      "07/27/2010\n",
      "C:\\pythonprogs\\DateSort\\IMAG0105.jpg\n",
      "IMAG0105.jpg, 2010-08-07 18:40:46\n",
      "08/07/2010\n",
      "C:\\pythonprogs\\DateSort\\IMAG0107.jpg\n",
      "IMAG0107.jpg, 2010-08-07 21:41:42\n",
      "08/07/2010\n",
      "C:\\pythonprogs\\DateSort\\IMAG0321.jpg\n",
      "IMAG0321.jpg, 2010-10-30 16:24:32\n",
      "10/30/2010\n",
      "C:\\pythonprogs\\DateSort\\IMAG0322.jpg\n",
      "IMAG0322.jpg, 2010-10-30 16:24:46\n",
      "10/30/2010\n"
     ]
    }
   ],
   "source": [
    "for file in flist:\n",
    "    if file.endswith('.jpg') or file.endswith('.JPG'):\n",
    "        fpath = os.path.abspath(file)\n",
    "        date = str(datetime.fromtimestamp(os.stat(file).st_mtime))\n",
    "        yr = date [0:4]\n",
    "        month = date [5:7]\n",
    "        day = date [8:10]\n",
    "        if yr not in years:\n",
    "            years.append(yr)\n",
    "            os.makedirs(yr)\n",
    "        print (fpath)\n",
    "        print (file+', '+date)\n",
    "        print (month+'/'+day+'/'+yr)"
   ]
  },
  {
   "cell_type": "code",
   "execution_count": 11,
   "metadata": {},
   "outputs": [
    {
     "name": "stdout",
     "output_type": "stream",
     "text": [
      "['2005', '2009', '2010']\n"
     ]
    }
   ],
   "source": [
    "print (years)"
   ]
  },
  {
   "cell_type": "code",
   "execution_count": null,
   "metadata": {},
   "outputs": [],
   "source": []
  }
 ],
 "metadata": {
  "kernelspec": {
   "display_name": "Python 3",
   "language": "python",
   "name": "python3"
  },
  "language_info": {
   "codemirror_mode": {
    "name": "ipython",
    "version": 3
   },
   "file_extension": ".py",
   "mimetype": "text/x-python",
   "name": "python",
   "nbconvert_exporter": "python",
   "pygments_lexer": "ipython3",
   "version": "3.7.7"
  }
 },
 "nbformat": 4,
 "nbformat_minor": 4
}
